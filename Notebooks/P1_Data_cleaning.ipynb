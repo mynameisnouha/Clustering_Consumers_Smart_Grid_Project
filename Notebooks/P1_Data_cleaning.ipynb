{
  "cells": [
    {
      "cell_type": "markdown",
      "source": [
        "# Data exploration"
      ],
      "metadata": {
        "id": "t-D8wSQPClxp"
      },
      "id": "t-D8wSQPClxp"
    },
    {
      "cell_type": "markdown",
      "source": [
        "Importing necessary libraries"
      ],
      "metadata": {
        "id": "JsbWJPkqCtLH"
      },
      "id": "JsbWJPkqCtLH"
    },
    {
      "cell_type": "code",
      "execution_count": 1,
      "id": "4cfb1200",
      "metadata": {
        "id": "4cfb1200"
      },
      "outputs": [],
      "source": [
        "import pandas as pd\n",
        "import seaborn as sns"
      ]
    },
    {
      "cell_type": "code",
      "execution_count": null,
      "id": "a7be0724",
      "metadata": {
        "id": "a7be0724"
      },
      "outputs": [],
      "source": [
        "df1 = pd.read_csv('./Partitioned LCL Data/Small LCL Data/LCL-June2015v2_105.csv')\n",
        "for i in range(106,120):\n",
        "   df2 = pd.read_csv('./Partitioned LCL Data/Small LCL Data/LCL-June2015v2_'+str(i)+'.csv') \n",
        "  \n",
        "   df1=pd.concat([df1, df2], join=\"inner\")\n",
        "  \n",
        "df1"
      ]
    },
    {
      "cell_type": "code",
      "execution_count": null,
      "id": "9104f7b3",
      "metadata": {
        "id": "9104f7b3",
        "outputId": "98cbe8b2-d664-46e3-f02f-ac6bb42b5c68"
      },
      "outputs": [
        {
          "data": {
            "text/html": [
              "<div>\n",
              "<style scoped>\n",
              "    .dataframe tbody tr th:only-of-type {\n",
              "        vertical-align: middle;\n",
              "    }\n",
              "\n",
              "    .dataframe tbody tr th {\n",
              "        vertical-align: top;\n",
              "    }\n",
              "\n",
              "    .dataframe thead th {\n",
              "        text-align: right;\n",
              "    }\n",
              "</style>\n",
              "<table border=\"1\" class=\"dataframe\">\n",
              "  <thead>\n",
              "    <tr style=\"text-align: right;\">\n",
              "      <th></th>\n",
              "      <th>LCLid</th>\n",
              "      <th>stdorToU</th>\n",
              "      <th>DateTime</th>\n",
              "      <th>KWH/hh (per half hour)</th>\n",
              "    </tr>\n",
              "  </thead>\n",
              "  <tbody>\n",
              "    <tr>\n",
              "      <th>0</th>\n",
              "      <td>MAC004458</td>\n",
              "      <td>Std</td>\n",
              "      <td>2012-08-30 14:30:00.0000000</td>\n",
              "      <td>1.834</td>\n",
              "    </tr>\n",
              "    <tr>\n",
              "      <th>1</th>\n",
              "      <td>MAC004458</td>\n",
              "      <td>Std</td>\n",
              "      <td>2012-08-30 15:00:00.0000000</td>\n",
              "      <td>1.428</td>\n",
              "    </tr>\n",
              "    <tr>\n",
              "      <th>2</th>\n",
              "      <td>MAC004458</td>\n",
              "      <td>Std</td>\n",
              "      <td>2012-08-30 15:30:00.0000000</td>\n",
              "      <td>0.653</td>\n",
              "    </tr>\n",
              "    <tr>\n",
              "      <th>3</th>\n",
              "      <td>MAC004458</td>\n",
              "      <td>Std</td>\n",
              "      <td>2012-08-30 16:00:00.0000000</td>\n",
              "      <td>0.49</td>\n",
              "    </tr>\n",
              "    <tr>\n",
              "      <th>4</th>\n",
              "      <td>MAC004458</td>\n",
              "      <td>Std</td>\n",
              "      <td>2012-08-30 16:30:00.0000000</td>\n",
              "      <td>0.594</td>\n",
              "    </tr>\n",
              "    <tr>\n",
              "      <th>...</th>\n",
              "      <td>...</td>\n",
              "      <td>...</td>\n",
              "      <td>...</td>\n",
              "      <td>...</td>\n",
              "    </tr>\n",
              "    <tr>\n",
              "      <th>999995</th>\n",
              "      <td>MAC005007</td>\n",
              "      <td>Std</td>\n",
              "      <td>2012-07-09 00:00:00.0000000</td>\n",
              "      <td>0.048</td>\n",
              "    </tr>\n",
              "    <tr>\n",
              "      <th>999996</th>\n",
              "      <td>MAC005007</td>\n",
              "      <td>Std</td>\n",
              "      <td>2012-07-09 00:30:00.0000000</td>\n",
              "      <td>0.044</td>\n",
              "    </tr>\n",
              "    <tr>\n",
              "      <th>999997</th>\n",
              "      <td>MAC005007</td>\n",
              "      <td>Std</td>\n",
              "      <td>2012-07-09 01:00:00.0000000</td>\n",
              "      <td>0.039</td>\n",
              "    </tr>\n",
              "    <tr>\n",
              "      <th>999998</th>\n",
              "      <td>MAC005007</td>\n",
              "      <td>Std</td>\n",
              "      <td>2012-07-09 01:30:00.0000000</td>\n",
              "      <td>0.03</td>\n",
              "    </tr>\n",
              "    <tr>\n",
              "      <th>999999</th>\n",
              "      <td>MAC005007</td>\n",
              "      <td>Std</td>\n",
              "      <td>2012-07-09 02:00:00.0000000</td>\n",
              "      <td>0.03</td>\n",
              "    </tr>\n",
              "  </tbody>\n",
              "</table>\n",
              "<p>15000000 rows × 4 columns</p>\n",
              "</div>"
            ],
            "text/plain": [
              "            LCLid stdorToU                     DateTime  \\\n",
              "0       MAC004458      Std  2012-08-30 14:30:00.0000000   \n",
              "1       MAC004458      Std  2012-08-30 15:00:00.0000000   \n",
              "2       MAC004458      Std  2012-08-30 15:30:00.0000000   \n",
              "3       MAC004458      Std  2012-08-30 16:00:00.0000000   \n",
              "4       MAC004458      Std  2012-08-30 16:30:00.0000000   \n",
              "...           ...      ...                          ...   \n",
              "999995  MAC005007      Std  2012-07-09 00:00:00.0000000   \n",
              "999996  MAC005007      Std  2012-07-09 00:30:00.0000000   \n",
              "999997  MAC005007      Std  2012-07-09 01:00:00.0000000   \n",
              "999998  MAC005007      Std  2012-07-09 01:30:00.0000000   \n",
              "999999  MAC005007      Std  2012-07-09 02:00:00.0000000   \n",
              "\n",
              "       KWH/hh (per half hour)   \n",
              "0                       1.834   \n",
              "1                       1.428   \n",
              "2                       0.653   \n",
              "3                        0.49   \n",
              "4                       0.594   \n",
              "...                        ...  \n",
              "999995                  0.048   \n",
              "999996                  0.044   \n",
              "999997                  0.039   \n",
              "999998                   0.03   \n",
              "999999                   0.03   \n",
              "\n",
              "[15000000 rows x 4 columns]"
            ]
          },
          "execution_count": 5,
          "metadata": {},
          "output_type": "execute_result"
        }
      ],
      "source": [
        "df1=df1.reset_index()\n",
        "df1.shape()"
      ]
    },
    {
      "cell_type": "code",
      "execution_count": null,
      "id": "ddba090f",
      "metadata": {
        "id": "ddba090f",
        "outputId": "df2f72d7-a4c5-4518-d5af-d13fbcf00082"
      },
      "outputs": [
        {
          "data": {
            "text/plain": [
              "448"
            ]
          },
          "execution_count": 9,
          "metadata": {},
          "output_type": "execute_result"
        }
      ],
      "source": [
        "print('on a',len(df1['LCLid'].unique()),'Compteurs')"
      ]
    },
    {
      "cell_type": "code",
      "execution_count": null,
      "id": "d2397f6d",
      "metadata": {
        "id": "d2397f6d",
        "outputId": "4ec9d2c5-8206-4f9b-9444-924d5adcaa89"
      },
      "outputs": [
        {
          "data": {
            "text/plain": [
              "False    38340\n",
              "True         2\n",
              "Name: DateTime, dtype: int64"
            ]
          },
          "execution_count": 6,
          "metadata": {},
          "output_type": "execute_result"
        }
      ],
      "source": [
        "(df1[df1['LCLid']=='MAC004554']['DateTime']=='2012-07-19 00:00:00.0000000').value_counts()"
      ]
    },
    {
      "cell_type": "code",
      "execution_count": null,
      "id": "3b86bfd5",
      "metadata": {
        "id": "3b86bfd5",
        "outputId": "8eecf1c8-f21b-4d27-f337-3b19b1f187ce"
      },
      "outputs": [
        {
          "data": {
            "text/plain": [
              "209862    False\n",
              "209863    False\n",
              "209864    False\n",
              "209865    False\n",
              "209866    False\n",
              "          ...  \n",
              "248199    False\n",
              "248200    False\n",
              "248201    False\n",
              "248202    False\n",
              "248203    False\n",
              "Name: DateTime, Length: 38342, dtype: bool"
            ]
          },
          "execution_count": 7,
          "metadata": {},
          "output_type": "execute_result"
        }
      ],
      "source": [
        "(df1[df1['LCLid']=='MAC004554']['DateTime']=='2012-07-19 00:00:00.0000000')"
      ]
    },
    {
      "cell_type": "code",
      "execution_count": null,
      "id": "ec159081",
      "metadata": {
        "id": "ec159081",
        "outputId": "ec3fc1e5-4824-48a2-af36-6c956930e05f"
      },
      "outputs": [
        {
          "data": {
            "text/plain": [
              "LCLid      stdorToU  DateTime                     KWH/hh (per half hour) \n",
              "MAC005004  Std       2012-04-17 00:00:00.0000000   0.041                     2\n",
              "MAC004458  Std       2013-04-24 00:00:00.0000000   0.524                     2\n",
              "MAC004947  Std       2012-10-20 00:00:00.0000000   0.443                     2\n",
              "MAC004997  Std       2012-02-15 00:00:00.0000000   0.371                     2\n",
              "MAC004775  Std       2013-04-24 00:00:00.0000000   0.054                     2\n",
              "MAC004637  Std       2013-07-26 00:00:00.0000000   0.281                     2\n",
              "MAC004649  Std       2013-02-21 00:00:00.0000000   0.163                     2\n",
              "MAC004584  Std       2013-06-25 00:00:00.0000000   0.026                     2\n",
              "MAC004614  Std       2013-12-28 00:00:00.0000000   0.339                     2\n",
              "MAC004834  Std       2012-05-18 00:00:00.0000000   0.045                     2\n",
              "dtype: int64"
            ]
          },
          "execution_count": 8,
          "metadata": {},
          "output_type": "execute_result"
        }
      ],
      "source": [
        "df1.value_counts().head(10)"
      ]
    },
    {
      "cell_type": "code",
      "execution_count": null,
      "id": "01c0a619",
      "metadata": {
        "id": "01c0a619"
      },
      "outputs": [],
      "source": [
        "#on va commencer par supprimer les lignes dupliquées\n",
        "df1.drop_duplicates(keep='first', inplace=True)"
      ]
    },
    {
      "cell_type": "code",
      "execution_count": null,
      "id": "cfa736da",
      "metadata": {
        "id": "cfa736da",
        "outputId": "c75baa1f-c835-44a1-a3b0-ba08ce1df5ab"
      },
      "outputs": [
        {
          "name": "stdout",
          "output_type": "stream",
          "text": [
            "<class 'pandas.core.frame.DataFrame'>\n",
            "Int64Index: 14989741 entries, 0 to 999999\n",
            "Data columns (total 4 columns):\n",
            " #   Column                   Dtype \n",
            "---  ------                   ----- \n",
            " 0   LCLid                    object\n",
            " 1   stdorToU                 object\n",
            " 2   DateTime                 object\n",
            " 3   KWH/hh (per half hour)   object\n",
            "dtypes: object(4)\n",
            "memory usage: 571.8+ MB\n"
          ]
        }
      ],
      "source": [
        "df1.info()"
      ]
    },
    {
      "cell_type": "code",
      "execution_count": null,
      "id": "5c819b80",
      "metadata": {
        "id": "5c819b80"
      },
      "outputs": [],
      "source": [
        "#On a passé de 15000000 lignes a 14989741 lignes."
      ]
    },
    {
      "cell_type": "code",
      "execution_count": null,
      "id": "3730a27b",
      "metadata": {
        "id": "3730a27b",
        "outputId": "e8b8300a-38b7-4330-cc89-f9fbef4978bb"
      },
      "outputs": [
        {
          "data": {
            "text/plain": [
              "Std    14989741\n",
              "Name: stdorToU, dtype: int64"
            ]
          },
          "execution_count": 14,
          "metadata": {},
          "output_type": "execute_result"
        }
      ],
      "source": [
        "df1['stdorToU'].value_counts() #cette valeur est la meme pour toute la dataset donc on peut la supprimer "
      ]
    },
    {
      "cell_type": "code",
      "execution_count": null,
      "id": "7c6b701c",
      "metadata": {
        "id": "7c6b701c",
        "outputId": "401c4a82-a1a7-4149-b0c5-451881e6ce95"
      },
      "outputs": [
        {
          "data": {
            "text/plain": [
              "2012-10-25 18:00:00.0000000    447\n",
              "2012-11-16 03:00:00.0000000    447\n",
              "2012-11-15 20:30:00.0000000    447\n",
              "2012-11-15 21:00:00.0000000    447\n",
              "2012-11-15 21:30:00.0000000    447\n",
              "                              ... \n",
              "2011-12-16 20:00:00.0000000      1\n",
              "2011-12-16 20:30:00.0000000      1\n",
              "2011-12-16 21:00:00.0000000      1\n",
              "2011-12-16 21:30:00.0000000      1\n",
              "2011-12-16 18:00:00.0000000      1\n",
              "Name: DateTime, Length: 38686, dtype: int64"
            ]
          },
          "execution_count": 15,
          "metadata": {},
          "output_type": "execute_result"
        }
      ],
      "source": [
        "df1['DateTime'].value_counts()"
      ]
    },
    {
      "cell_type": "code",
      "execution_count": null,
      "id": "a4451960",
      "metadata": {
        "id": "a4451960",
        "outputId": "93b16513-79e0-47c5-f1ce-f42e8eaa5dc1"
      },
      "outputs": [
        {
          "data": {
            "text/html": [
              "<div>\n",
              "<style scoped>\n",
              "    .dataframe tbody tr th:only-of-type {\n",
              "        vertical-align: middle;\n",
              "    }\n",
              "\n",
              "    .dataframe tbody tr th {\n",
              "        vertical-align: top;\n",
              "    }\n",
              "\n",
              "    .dataframe thead th {\n",
              "        text-align: right;\n",
              "    }\n",
              "</style>\n",
              "<table border=\"1\" class=\"dataframe\">\n",
              "  <thead>\n",
              "    <tr style=\"text-align: right;\">\n",
              "      <th></th>\n",
              "      <th>LCLid</th>\n",
              "      <th>stdorToU</th>\n",
              "      <th>DateTime</th>\n",
              "      <th>KWH/hh (per half hour)</th>\n",
              "    </tr>\n",
              "  </thead>\n",
              "  <tbody>\n",
              "    <tr>\n",
              "      <th>2701</th>\n",
              "      <td>MAC004458</td>\n",
              "      <td>Std</td>\n",
              "      <td>2012-10-25 20:00:00.0000000</td>\n",
              "      <td>1.086</td>\n",
              "    </tr>\n",
              "    <tr>\n",
              "      <th>41338</th>\n",
              "      <td>MAC004459</td>\n",
              "      <td>Std</td>\n",
              "      <td>2012-10-25 20:00:00.0000000</td>\n",
              "      <td>0.475</td>\n",
              "    </tr>\n",
              "    <tr>\n",
              "      <th>79924</th>\n",
              "      <td>MAC004460</td>\n",
              "      <td>Std</td>\n",
              "      <td>2012-10-25 20:00:00.0000000</td>\n",
              "      <td>0.183</td>\n",
              "    </tr>\n",
              "    <tr>\n",
              "      <th>118524</th>\n",
              "      <td>MAC004461</td>\n",
              "      <td>Std</td>\n",
              "      <td>2012-10-25 20:00:00.0000000</td>\n",
              "      <td>0.125</td>\n",
              "    </tr>\n",
              "    <tr>\n",
              "      <th>157125</th>\n",
              "      <td>MAC004462</td>\n",
              "      <td>Std</td>\n",
              "      <td>2012-10-25 20:00:00.0000000</td>\n",
              "      <td>0.236</td>\n",
              "    </tr>\n",
              "    <tr>\n",
              "      <th>...</th>\n",
              "      <td>...</td>\n",
              "      <td>...</td>\n",
              "      <td>...</td>\n",
              "      <td>...</td>\n",
              "    </tr>\n",
              "    <tr>\n",
              "      <th>824697</th>\n",
              "      <td>MAC005001</td>\n",
              "      <td>Std</td>\n",
              "      <td>2012-10-25 20:00:00.0000000</td>\n",
              "      <td>0.346</td>\n",
              "    </tr>\n",
              "    <tr>\n",
              "      <th>858860</th>\n",
              "      <td>MAC005002</td>\n",
              "      <td>Std</td>\n",
              "      <td>2012-10-25 20:00:00.0000000</td>\n",
              "      <td>0.085</td>\n",
              "    </tr>\n",
              "    <tr>\n",
              "      <th>895476</th>\n",
              "      <td>MAC005003</td>\n",
              "      <td>Std</td>\n",
              "      <td>2012-10-25 20:00:00.0000000</td>\n",
              "      <td>0.074</td>\n",
              "    </tr>\n",
              "    <tr>\n",
              "      <th>932060</th>\n",
              "      <td>MAC005004</td>\n",
              "      <td>Std</td>\n",
              "      <td>2012-10-25 20:00:00.0000000</td>\n",
              "      <td>0.09</td>\n",
              "    </tr>\n",
              "    <tr>\n",
              "      <th>968643</th>\n",
              "      <td>MAC005005</td>\n",
              "      <td>Std</td>\n",
              "      <td>2012-10-25 20:00:00.0000000</td>\n",
              "      <td>0.177</td>\n",
              "    </tr>\n",
              "  </tbody>\n",
              "</table>\n",
              "<p>447 rows × 4 columns</p>\n",
              "</div>"
            ],
            "text/plain": [
              "            LCLid stdorToU                     DateTime  \\\n",
              "2701    MAC004458      Std  2012-10-25 20:00:00.0000000   \n",
              "41338   MAC004459      Std  2012-10-25 20:00:00.0000000   \n",
              "79924   MAC004460      Std  2012-10-25 20:00:00.0000000   \n",
              "118524  MAC004461      Std  2012-10-25 20:00:00.0000000   \n",
              "157125  MAC004462      Std  2012-10-25 20:00:00.0000000   \n",
              "...           ...      ...                          ...   \n",
              "824697  MAC005001      Std  2012-10-25 20:00:00.0000000   \n",
              "858860  MAC005002      Std  2012-10-25 20:00:00.0000000   \n",
              "895476  MAC005003      Std  2012-10-25 20:00:00.0000000   \n",
              "932060  MAC005004      Std  2012-10-25 20:00:00.0000000   \n",
              "968643  MAC005005      Std  2012-10-25 20:00:00.0000000   \n",
              "\n",
              "       KWH/hh (per half hour)   \n",
              "2701                    1.086   \n",
              "41338                   0.475   \n",
              "79924                   0.183   \n",
              "118524                  0.125   \n",
              "157125                  0.236   \n",
              "...                        ...  \n",
              "824697                  0.346   \n",
              "858860                  0.085   \n",
              "895476                  0.074   \n",
              "932060                   0.09   \n",
              "968643                  0.177   \n",
              "\n",
              "[447 rows x 4 columns]"
            ]
          },
          "execution_count": 16,
          "metadata": {},
          "output_type": "execute_result"
        }
      ],
      "source": [
        "df1[df1['DateTime']=='2012-10-25 20:00:00.0000000']"
      ]
    },
    {
      "cell_type": "code",
      "execution_count": null,
      "id": "e46e1c4e",
      "metadata": {
        "id": "e46e1c4e"
      },
      "outputs": [],
      "source": [
        "#pour une meme datetime on a plusieurs valeurs de differents compteur, comme par exemple le datetime pour 2012-10-25 20:00:00.0000000\n",
        "#est repeté 366 fois \n",
        " "
      ]
    },
    {
      "cell_type": "code",
      "execution_count": null,
      "id": "78e5170e",
      "metadata": {
        "id": "78e5170e"
      },
      "outputs": [],
      "source": [
        "#Nombre de colonne pertinente est 3\n",
        "df1.drop('stdorToU', inplace=True, axis=1)"
      ]
    },
    {
      "cell_type": "code",
      "execution_count": null,
      "id": "1f9797aa",
      "metadata": {
        "id": "1f9797aa",
        "outputId": "b7a6b15d-7f3c-4797-ebb3-6b71decd023e"
      },
      "outputs": [
        {
          "data": {
            "text/plain": [
              "False    14989741\n",
              "Name: KWH/hh (per half hour) , dtype: int64"
            ]
          },
          "execution_count": 19,
          "metadata": {},
          "output_type": "execute_result"
        }
      ],
      "source": [
        "df1.isna()['KWH/hh (per half hour) '].value_counts()"
      ]
    },
    {
      "cell_type": "code",
      "execution_count": null,
      "id": "7e4ee93e",
      "metadata": {
        "id": "7e4ee93e",
        "outputId": "26f4a58c-3b6c-4fcc-c260-78e9fd60c84d"
      },
      "outputs": [
        {
          "data": {
            "text/plain": [
              "False    14989741\n",
              "Name: DateTime, dtype: int64"
            ]
          },
          "execution_count": 20,
          "metadata": {},
          "output_type": "execute_result"
        }
      ],
      "source": [
        "df1.isna()['DateTime'].value_counts()"
      ]
    },
    {
      "cell_type": "code",
      "execution_count": null,
      "id": "27a282d8",
      "metadata": {
        "id": "27a282d8",
        "outputId": "d8520ca6-bb9c-4fcd-c1e8-adb547b8cd2c"
      },
      "outputs": [
        {
          "data": {
            "text/plain": [
              "False    14989741\n",
              "Name: LCLid, dtype: int64"
            ]
          },
          "execution_count": 21,
          "metadata": {},
          "output_type": "execute_result"
        }
      ],
      "source": [
        "df1.isna()['LCLid'].value_counts()"
      ]
    },
    {
      "cell_type": "code",
      "execution_count": null,
      "id": "20683e37",
      "metadata": {
        "id": "20683e37",
        "outputId": "4269cac3-18cf-4994-a3fb-73cde0d4cc68"
      },
      "outputs": [
        {
          "data": {
            "text/plain": [
              "<AxesSubplot:>"
            ]
          },
          "execution_count": 22,
          "metadata": {},
          "output_type": "execute_result"
        },
        {
          "data": {
            "image/png": "[encoded data removed]",
            "text/plain": [
              "<Figure size 640x480 with 2 Axes>"
            ]
          },
          "metadata": {},
          "output_type": "display_data"
        }
      ],
      "source": [
        "#les valeurs manquantes dans la dataset\n",
        "\n",
        "sns.heatmap(df1.isna())"
      ]
    },
    {
      "cell_type": "code",
      "execution_count": null,
      "id": "4fe5c23b",
      "metadata": {
        "id": "4fe5c23b"
      },
      "outputs": [],
      "source": [
        "df1.dropna(inplace=True)"
      ]
    },
    {
      "cell_type": "code",
      "execution_count": null,
      "id": "1fdbcdba",
      "metadata": {
        "id": "1fdbcdba",
        "outputId": "e5e436d5-47d3-45e6-d046-8eba5d57371b"
      },
      "outputs": [
        {
          "data": {
            "text/html": [
              "<div>\n",
              "<style scoped>\n",
              "    .dataframe tbody tr th:only-of-type {\n",
              "        vertical-align: middle;\n",
              "    }\n",
              "\n",
              "    .dataframe tbody tr th {\n",
              "        vertical-align: top;\n",
              "    }\n",
              "\n",
              "    .dataframe thead th {\n",
              "        text-align: right;\n",
              "    }\n",
              "</style>\n",
              "<table border=\"1\" class=\"dataframe\">\n",
              "  <thead>\n",
              "    <tr style=\"text-align: right;\">\n",
              "      <th></th>\n",
              "      <th>LCLid</th>\n",
              "      <th>DateTime</th>\n",
              "      <th>KWH/hh (per half hour)</th>\n",
              "    </tr>\n",
              "  </thead>\n",
              "  <tbody>\n",
              "    <tr>\n",
              "      <th>0</th>\n",
              "      <td>MAC004458</td>\n",
              "      <td>2012-08-30 14:30:00.0000000</td>\n",
              "      <td>1.834</td>\n",
              "    </tr>\n",
              "    <tr>\n",
              "      <th>1</th>\n",
              "      <td>MAC004458</td>\n",
              "      <td>2012-08-30 15:00:00.0000000</td>\n",
              "      <td>1.428</td>\n",
              "    </tr>\n",
              "    <tr>\n",
              "      <th>2</th>\n",
              "      <td>MAC004458</td>\n",
              "      <td>2012-08-30 15:30:00.0000000</td>\n",
              "      <td>0.653</td>\n",
              "    </tr>\n",
              "    <tr>\n",
              "      <th>3</th>\n",
              "      <td>MAC004458</td>\n",
              "      <td>2012-08-30 16:00:00.0000000</td>\n",
              "      <td>0.49</td>\n",
              "    </tr>\n",
              "    <tr>\n",
              "      <th>4</th>\n",
              "      <td>MAC004458</td>\n",
              "      <td>2012-08-30 16:30:00.0000000</td>\n",
              "      <td>0.594</td>\n",
              "    </tr>\n",
              "    <tr>\n",
              "      <th>...</th>\n",
              "      <td>...</td>\n",
              "      <td>...</td>\n",
              "      <td>...</td>\n",
              "    </tr>\n",
              "    <tr>\n",
              "      <th>999995</th>\n",
              "      <td>MAC005007</td>\n",
              "      <td>2012-07-09 00:00:00.0000000</td>\n",
              "      <td>0.048</td>\n",
              "    </tr>\n",
              "    <tr>\n",
              "      <th>999996</th>\n",
              "      <td>MAC005007</td>\n",
              "      <td>2012-07-09 00:30:00.0000000</td>\n",
              "      <td>0.044</td>\n",
              "    </tr>\n",
              "    <tr>\n",
              "      <th>999997</th>\n",
              "      <td>MAC005007</td>\n",
              "      <td>2012-07-09 01:00:00.0000000</td>\n",
              "      <td>0.039</td>\n",
              "    </tr>\n",
              "    <tr>\n",
              "      <th>999998</th>\n",
              "      <td>MAC005007</td>\n",
              "      <td>2012-07-09 01:30:00.0000000</td>\n",
              "      <td>0.03</td>\n",
              "    </tr>\n",
              "    <tr>\n",
              "      <th>999999</th>\n",
              "      <td>MAC005007</td>\n",
              "      <td>2012-07-09 02:00:00.0000000</td>\n",
              "      <td>0.03</td>\n",
              "    </tr>\n",
              "  </tbody>\n",
              "</table>\n",
              "<p>14989741 rows × 3 columns</p>\n",
              "</div>"
            ],
            "text/plain": [
              "            LCLid                     DateTime KWH/hh (per half hour) \n",
              "0       MAC004458  2012-08-30 14:30:00.0000000                  1.834 \n",
              "1       MAC004458  2012-08-30 15:00:00.0000000                  1.428 \n",
              "2       MAC004458  2012-08-30 15:30:00.0000000                  0.653 \n",
              "3       MAC004458  2012-08-30 16:00:00.0000000                   0.49 \n",
              "4       MAC004458  2012-08-30 16:30:00.0000000                  0.594 \n",
              "...           ...                          ...                     ...\n",
              "999995  MAC005007  2012-07-09 00:00:00.0000000                  0.048 \n",
              "999996  MAC005007  2012-07-09 00:30:00.0000000                  0.044 \n",
              "999997  MAC005007  2012-07-09 01:00:00.0000000                  0.039 \n",
              "999998  MAC005007  2012-07-09 01:30:00.0000000                   0.03 \n",
              "999999  MAC005007  2012-07-09 02:00:00.0000000                   0.03 \n",
              "\n",
              "[14989741 rows x 3 columns]"
            ]
          },
          "execution_count": 24,
          "metadata": {},
          "output_type": "execute_result"
        }
      ],
      "source": [
        "df1"
      ]
    },
    {
      "cell_type": "code",
      "execution_count": null,
      "id": "1cf30ecd",
      "metadata": {
        "id": "1cf30ecd"
      },
      "outputs": [],
      "source": [
        "#On n'a pas de valeurs nan dans la dataset"
      ]
    },
    {
      "cell_type": "code",
      "execution_count": null,
      "id": "d1d73101",
      "metadata": {
        "id": "d1d73101"
      },
      "outputs": [],
      "source": [
        "#s=0\n",
        "#for i in df1['KWH/hh (per half hour) '] :\n",
        "    #print(float(i))\n",
        "    #s=float(i)+s"
      ]
    },
    {
      "cell_type": "code",
      "execution_count": null,
      "id": "15845887",
      "metadata": {
        "id": "15845887",
        "outputId": "cb5d66ea-d766-44bd-a0cf-835458c86558"
      },
      "outputs": [
        {
          "data": {
            "text/plain": [
              "False    14989295\n",
              "True          446\n",
              "Name: KWH/hh (per half hour) , dtype: int64"
            ]
          },
          "execution_count": 27,
          "metadata": {},
          "output_type": "execute_result"
        }
      ],
      "source": [
        "(df1['KWH/hh (per half hour) ']=='Null').value_counts()"
      ]
    },
    {
      "cell_type": "code",
      "execution_count": null,
      "id": "359eb912",
      "metadata": {
        "id": "359eb912"
      },
      "outputs": [],
      "source": [
        "#on va supprimer ces lignes \n",
        "indice=df1[df1['KWH/hh (per half hour) ']=='Null'].index"
      ]
    },
    {
      "cell_type": "code",
      "execution_count": null,
      "id": "cfa94a64",
      "metadata": {
        "id": "cfa94a64",
        "outputId": "f4a7f07e-c1c0-47b6-a595-d553a68267cc"
      },
      "outputs": [
        {
          "data": {
            "text/plain": [
              "446"
            ]
          },
          "execution_count": 29,
          "metadata": {},
          "output_type": "execute_result"
        }
      ],
      "source": [
        "len(indice)"
      ]
    },
    {
      "cell_type": "code",
      "execution_count": null,
      "id": "466640eb",
      "metadata": {
        "id": "466640eb",
        "outputId": "7994cfeb-ccae-45ac-9b04-cae40d52cf0f"
      },
      "outputs": [
        {
          "data": {
            "text/html": [
              "<div>\n",
              "<style scoped>\n",
              "    .dataframe tbody tr th:only-of-type {\n",
              "        vertical-align: middle;\n",
              "    }\n",
              "\n",
              "    .dataframe tbody tr th {\n",
              "        vertical-align: top;\n",
              "    }\n",
              "\n",
              "    .dataframe thead th {\n",
              "        text-align: right;\n",
              "    }\n",
              "</style>\n",
              "<table border=\"1\" class=\"dataframe\">\n",
              "  <thead>\n",
              "    <tr style=\"text-align: right;\">\n",
              "      <th></th>\n",
              "      <th>LCLid</th>\n",
              "      <th>DateTime</th>\n",
              "      <th>KWH/hh (per half hour)</th>\n",
              "    </tr>\n",
              "  </thead>\n",
              "  <tbody>\n",
              "    <tr>\n",
              "      <th>5285</th>\n",
              "      <td>MAC004458</td>\n",
              "      <td>2012-12-18 15:13:56.0000000</td>\n",
              "      <td>Null</td>\n",
              "    </tr>\n",
              "    <tr>\n",
              "      <th>43922</th>\n",
              "      <td>MAC004459</td>\n",
              "      <td>2012-12-18 15:13:56.0000000</td>\n",
              "      <td>Null</td>\n",
              "    </tr>\n",
              "    <tr>\n",
              "      <th>82508</th>\n",
              "      <td>MAC004460</td>\n",
              "      <td>2012-12-18 15:13:56.0000000</td>\n",
              "      <td>Null</td>\n",
              "    </tr>\n",
              "    <tr>\n",
              "      <th>121108</th>\n",
              "      <td>MAC004461</td>\n",
              "      <td>2012-12-18 15:13:56.0000000</td>\n",
              "      <td>Null</td>\n",
              "    </tr>\n",
              "    <tr>\n",
              "      <th>159709</th>\n",
              "      <td>MAC004462</td>\n",
              "      <td>2012-12-18 15:13:56.0000000</td>\n",
              "      <td>Null</td>\n",
              "    </tr>\n",
              "    <tr>\n",
              "      <th>...</th>\n",
              "      <td>...</td>\n",
              "      <td>...</td>\n",
              "      <td>...</td>\n",
              "    </tr>\n",
              "    <tr>\n",
              "      <th>827281</th>\n",
              "      <td>MAC005001</td>\n",
              "      <td>2012-12-18 15:14:29.0000000</td>\n",
              "      <td>Null</td>\n",
              "    </tr>\n",
              "    <tr>\n",
              "      <th>861444</th>\n",
              "      <td>MAC005002</td>\n",
              "      <td>2012-12-18 15:14:29.0000000</td>\n",
              "      <td>Null</td>\n",
              "    </tr>\n",
              "    <tr>\n",
              "      <th>898060</th>\n",
              "      <td>MAC005003</td>\n",
              "      <td>2012-12-18 15:14:30.0000000</td>\n",
              "      <td>Null</td>\n",
              "    </tr>\n",
              "    <tr>\n",
              "      <th>934644</th>\n",
              "      <td>MAC005004</td>\n",
              "      <td>2012-12-18 15:14:30.0000000</td>\n",
              "      <td>Null</td>\n",
              "    </tr>\n",
              "    <tr>\n",
              "      <th>971227</th>\n",
              "      <td>MAC005005</td>\n",
              "      <td>2012-12-18 15:14:30.0000000</td>\n",
              "      <td>Null</td>\n",
              "    </tr>\n",
              "  </tbody>\n",
              "</table>\n",
              "<p>446 rows × 3 columns</p>\n",
              "</div>"
            ],
            "text/plain": [
              "            LCLid                     DateTime KWH/hh (per half hour) \n",
              "5285    MAC004458  2012-12-18 15:13:56.0000000                    Null\n",
              "43922   MAC004459  2012-12-18 15:13:56.0000000                    Null\n",
              "82508   MAC004460  2012-12-18 15:13:56.0000000                    Null\n",
              "121108  MAC004461  2012-12-18 15:13:56.0000000                    Null\n",
              "159709  MAC004462  2012-12-18 15:13:56.0000000                    Null\n",
              "...           ...                          ...                     ...\n",
              "827281  MAC005001  2012-12-18 15:14:29.0000000                    Null\n",
              "861444  MAC005002  2012-12-18 15:14:29.0000000                    Null\n",
              "898060  MAC005003  2012-12-18 15:14:30.0000000                    Null\n",
              "934644  MAC005004  2012-12-18 15:14:30.0000000                    Null\n",
              "971227  MAC005005  2012-12-18 15:14:30.0000000                    Null\n",
              "\n",
              "[446 rows x 3 columns]"
            ]
          },
          "execution_count": 30,
          "metadata": {},
          "output_type": "execute_result"
        }
      ],
      "source": [
        "df1[df1['KWH/hh (per half hour) ']=='Null']"
      ]
    },
    {
      "cell_type": "code",
      "execution_count": null,
      "id": "0185653f",
      "metadata": {
        "id": "0185653f"
      },
      "outputs": [],
      "source": [
        "df1.drop(indice , inplace=True)"
      ]
    },
    {
      "cell_type": "code",
      "execution_count": null,
      "id": "e390d7a8",
      "metadata": {
        "id": "e390d7a8",
        "outputId": "4e30f639-4b49-49c6-b38e-ba6930d77d38"
      },
      "outputs": [
        {
          "data": {
            "text/plain": [
              "count     14983053\n",
              "unique        5632\n",
              "top             0 \n",
              "freq        210936\n",
              "Name: KWH/hh (per half hour) , dtype: object"
            ]
          },
          "execution_count": 32,
          "metadata": {},
          "output_type": "execute_result"
        }
      ],
      "source": [
        "df1['KWH/hh (per half hour) '].describe()"
      ]
    },
    {
      "cell_type": "code",
      "execution_count": null,
      "id": "cf960a5a",
      "metadata": {
        "id": "cf960a5a"
      },
      "outputs": [],
      "source": [
        "df1['KWH/hh (per half hour) ']=pd. to_numeric(df1['KWH/hh (per half hour) '])"
      ]
    },
    {
      "cell_type": "code",
      "execution_count": null,
      "id": "85b147b7",
      "metadata": {
        "id": "85b147b7",
        "outputId": "22defed0-0606-4fc3-b485-3abeb06dc07d"
      },
      "outputs": [
        {
          "data": {
            "text/plain": [
              "count    1.498305e+07\n",
              "mean     2.129721e-01\n",
              "std      3.203826e-01\n",
              "min      0.000000e+00\n",
              "25%      5.600000e-02\n",
              "50%      1.120000e-01\n",
              "75%      2.360000e-01\n",
              "max      9.257000e+00\n",
              "Name: KWH/hh (per half hour) , dtype: float64"
            ]
          },
          "execution_count": 34,
          "metadata": {},
          "output_type": "execute_result"
        }
      ],
      "source": [
        "df1['KWH/hh (per half hour) '].describe()"
      ]
    },
    {
      "cell_type": "code",
      "source": [
        "from google.colab import drive\n",
        "drive.mount('/content/drive')"
      ],
      "metadata": {
        "colab": {
          "base_uri": "https://localhost:8080/"
        },
        "id": "2OMHTYw1YzmS",
        "outputId": "b19ce738-611b-4521-a780-e5d2ed5e5be7"
      },
      "execution_count": null,
      "outputs": [
        {
          "output_type": "stream",
          "name": "stdout",
          "text": [
            "Mounted at /content/drive\n"
          ]
        }
      ],
      "id": "2OMHTYw1YzmS"
    },
    {
      "cell_type": "markdown",
      "source": [
        "Importation du dataset aprés le netoyage de doublons et des valeurs manquantes."
      ],
      "metadata": {
        "id": "iirEliMRZA2M"
      },
      "id": "iirEliMRZA2M"
    },
    {
      "cell_type": "code",
      "execution_count": null,
      "metadata": {
        "id": "eNqtcic2SuvN"
      },
      "outputs": [],
      "source": [
        "import pandas as pd\n",
        "df1 = pd.read_csv('/content/drive/MyDrive/Smart_grid/Data_clean.csv')"
      ],
      "id": "eNqtcic2SuvN"
    },
    {
      "cell_type": "code",
      "execution_count": null,
      "metadata": {
        "id": "s5kSAjCelpyf",
        "colab": {
          "base_uri": "https://localhost:8080/",
          "height": 424
        },
        "outputId": "cf083c9e-a277-42d9-b9ee-8f72bcf150dc"
      },
      "outputs": [
        {
          "output_type": "execute_result",
          "data": {
            "text/plain": [
              "              LCLid                     DateTime  KWH/hh (per half hour) \n",
              "0         MAC004458  2012-08-30 14:30:00.0000000                    1.834\n",
              "1         MAC004458  2012-08-30 15:00:00.0000000                    1.428\n",
              "2         MAC004458  2012-08-30 15:30:00.0000000                    0.653\n",
              "3         MAC004458  2012-08-30 16:00:00.0000000                    0.490\n",
              "4         MAC004458  2012-08-30 16:30:00.0000000                    0.594\n",
              "...             ...                          ...                      ...\n",
              "14983048  MAC005007  2012-07-09 00:00:00.0000000                    0.048\n",
              "14983049  MAC005007  2012-07-09 00:30:00.0000000                    0.044\n",
              "14983050  MAC005007  2012-07-09 01:00:00.0000000                    0.039\n",
              "14983051  MAC005007  2012-07-09 01:30:00.0000000                    0.030\n",
              "14983052  MAC005007  2012-07-09 02:00:00.0000000                    0.030\n",
              "\n",
              "[14983053 rows x 3 columns]"
            ],
            "text/html": [
              "\n",
              "  <div id=\"df-de6681a9-3770-41ec-b126-b1910c49a04c\">\n",
              "    <div class=\"colab-df-container\">\n",
              "      <div>\n",
              "<style scoped>\n",
              "    .dataframe tbody tr th:only-of-type {\n",
              "        vertical-align: middle;\n",
              "    }\n",
              "\n",
              "    .dataframe tbody tr th {\n",
              "        vertical-align: top;\n",
              "    }\n",
              "\n",
              "    .dataframe thead th {\n",
              "        text-align: right;\n",
              "    }\n",
              "</style>\n",
              "<table border=\"1\" class=\"dataframe\">\n",
              "  <thead>\n",
              "    <tr style=\"text-align: right;\">\n",
              "      <th></th>\n",
              "      <th>LCLid</th>\n",
              "      <th>DateTime</th>\n",
              "      <th>KWH/hh (per half hour)</th>\n",
              "    </tr>\n",
              "  </thead>\n",
              "  <tbody>\n",
              "    <tr>\n",
              "      <th>0</th>\n",
              "      <td>MAC004458</td>\n",
              "      <td>2012-08-30 14:30:00.0000000</td>\n",
              "      <td>1.834</td>\n",
              "    </tr>\n",
              "    <tr>\n",
              "      <th>1</th>\n",
              "      <td>MAC004458</td>\n",
              "      <td>2012-08-30 15:00:00.0000000</td>\n",
              "      <td>1.428</td>\n",
              "    </tr>\n",
              "    <tr>\n",
              "      <th>2</th>\n",
              "      <td>MAC004458</td>\n",
              "      <td>2012-08-30 15:30:00.0000000</td>\n",
              "      <td>0.653</td>\n",
              "    </tr>\n",
              "    <tr>\n",
              "      <th>3</th>\n",
              "      <td>MAC004458</td>\n",
              "      <td>2012-08-30 16:00:00.0000000</td>\n",
              "      <td>0.490</td>\n",
              "    </tr>\n",
              "    <tr>\n",
              "      <th>4</th>\n",
              "      <td>MAC004458</td>\n",
              "      <td>2012-08-30 16:30:00.0000000</td>\n",
              "      <td>0.594</td>\n",
              "    </tr>\n",
              "    <tr>\n",
              "      <th>...</th>\n",
              "      <td>...</td>\n",
              "      <td>...</td>\n",
              "      <td>...</td>\n",
              "    </tr>\n",
              "    <tr>\n",
              "      <th>14983048</th>\n",
              "      <td>MAC005007</td>\n",
              "      <td>2012-07-09 00:00:00.0000000</td>\n",
              "      <td>0.048</td>\n",
              "    </tr>\n",
              "    <tr>\n",
              "      <th>14983049</th>\n",
              "      <td>MAC005007</td>\n",
              "      <td>2012-07-09 00:30:00.0000000</td>\n",
              "      <td>0.044</td>\n",
              "    </tr>\n",
              "    <tr>\n",
              "      <th>14983050</th>\n",
              "      <td>MAC005007</td>\n",
              "      <td>2012-07-09 01:00:00.0000000</td>\n",
              "      <td>0.039</td>\n",
              "    </tr>\n",
              "    <tr>\n",
              "      <th>14983051</th>\n",
              "      <td>MAC005007</td>\n",
              "      <td>2012-07-09 01:30:00.0000000</td>\n",
              "      <td>0.030</td>\n",
              "    </tr>\n",
              "    <tr>\n",
              "      <th>14983052</th>\n",
              "      <td>MAC005007</td>\n",
              "      <td>2012-07-09 02:00:00.0000000</td>\n",
              "      <td>0.030</td>\n",
              "    </tr>\n",
              "  </tbody>\n",
              "</table>\n",
              "<p>14983053 rows × 3 columns</p>\n",
              "</div>\n",
              "      <button class=\"colab-df-convert\" onclick=\"convertToInteractive('df-de6681a9-3770-41ec-b126-b1910c49a04c')\"\n",
              "              title=\"Convert this dataframe to an interactive table.\"\n",
              "              style=\"display:none;\">\n",
              "        \n",
              "  <svg xmlns=\"http://www.w3.org/2000/svg\" height=\"24px\"viewBox=\"0 0 24 24\"\n",
              "       width=\"24px\">\n",
              "    <path d=\"M0 0h24v24H0V0z\" fill=\"none\"/>\n",
              "    <path d=\"M18.56 5.44l.94 2.06.94-2.06 2.06-.94-2.06-.94-.94-2.06-.94 2.06-2.06.94zm-11 1L8.5 8.5l.94-2.06 2.06-.94-2.06-.94L8.5 2.5l-.94 2.06-2.06.94zm10 10l.94 2.06.94-2.06 2.06-.94-2.06-.94-.94-2.06-.94 2.06-2.06.94z\"/><path d=\"M17.41 7.96l-1.37-1.37c-.4-.4-.92-.59-1.43-.59-.52 0-1.04.2-1.43.59L10.3 9.45l-7.72 7.72c-.78.78-.78 2.05 0 2.83L4 21.41c.39.39.9.59 1.41.59.51 0 1.02-.2 1.41-.59l7.78-7.78 2.81-2.81c.8-.78.8-2.07 0-2.86zM5.41 20L4 18.59l7.72-7.72 1.47 1.35L5.41 20z\"/>\n",
              "  </svg>\n",
              "      </button>\n",
              "      \n",
              "  <style>\n",
              "    .colab-df-container {\n",
              "      display:flex;\n",
              "      flex-wrap:wrap;\n",
              "      gap: 12px;\n",
              "    }\n",
              "\n",
              "    .colab-df-convert {\n",
              "      background-color: #E8F0FE;\n",
              "      border: none;\n",
              "      border-radius: 50%;\n",
              "      cursor: pointer;\n",
              "      display: none;\n",
              "      fill: #1967D2;\n",
              "      height: 32px;\n",
              "      padding: 0 0 0 0;\n",
              "      width: 32px;\n",
              "    }\n",
              "\n",
              "    .colab-df-convert:hover {\n",
              "      background-color: #E2EBFA;\n",
              "      box-shadow: 0px 1px 2px rgba(60, 64, 67, 0.3), 0px 1px 3px 1px rgba(60, 64, 67, 0.15);\n",
              "      fill: #174EA6;\n",
              "    }\n",
              "\n",
              "    [theme=dark] .colab-df-convert {\n",
              "      background-color: #3B4455;\n",
              "      fill: #D2E3FC;\n",
              "    }\n",
              "\n",
              "    [theme=dark] .colab-df-convert:hover {\n",
              "      background-color: #434B5C;\n",
              "      box-shadow: 0px 1px 3px 1px rgba(0, 0, 0, 0.15);\n",
              "      filter: drop-shadow(0px 1px 2px rgba(0, 0, 0, 0.3));\n",
              "      fill: #FFFFFF;\n",
              "    }\n",
              "  </style>\n",
              "\n",
              "      <script>\n",
              "        const buttonEl =\n",
              "          document.querySelector('#df-de6681a9-3770-41ec-b126-b1910c49a04c button.colab-df-convert');\n",
              "        buttonEl.style.display =\n",
              "          google.colab.kernel.accessAllowed ? 'block' : 'none';\n",
              "\n",
              "        async function convertToInteractive(key) {\n",
              "          const element = document.querySelector('#df-de6681a9-3770-41ec-b126-b1910c49a04c');\n",
              "          const dataTable =\n",
              "            await google.colab.kernel.invokeFunction('convertToInteractive',\n",
              "                                                     [key], {});\n",
              "          if (!dataTable) return;\n",
              "\n",
              "          const docLinkHtml = 'Like what you see? Visit the ' +\n",
              "            '<a target=\"_blank\" href=https://colab.research.google.com/notebooks/data_table.ipynb>data table notebook</a>'\n",
              "            + ' to learn more about interactive tables.';\n",
              "          element.innerHTML = '';\n",
              "          dataTable['output_type'] = 'display_data';\n",
              "          await google.colab.output.renderOutput(dataTable, element);\n",
              "          const docLink = document.createElement('div');\n",
              "          docLink.innerHTML = docLinkHtml;\n",
              "          element.appendChild(docLink);\n",
              "        }\n",
              "      </script>\n",
              "    </div>\n",
              "  </div>\n",
              "  "
            ]
          },
          "metadata": {},
          "execution_count": 4
        }
      ],
      "source": [
        "df1"
      ],
      "id": "s5kSAjCelpyf"
    },
    {
      "cell_type": "markdown",
      "source": [
        "Pour rendre la partie analyse plus facile, on va diviser la colonne datetime en 5 colonnes ( year, month,day,hour et minute)"
      ],
      "metadata": {
        "id": "_QaIfrtbZegN"
      },
      "id": "_QaIfrtbZegN"
    },
    {
      "cell_type": "code",
      "execution_count": null,
      "metadata": {
        "id": "MbuMGDdcmPNo"
      },
      "outputs": [],
      "source": [
        "#On commence par convertir les valeurs de la colonne datetime de str to datetime objet pour les manipuler facilement ultérieurement(cette cellule peut prendre jusqu'à 3 min)\n",
        "from datetime import datetime\n",
        "datetim=[]\n",
        "for i in df1['DateTime']:\n",
        " \n",
        " time_data = i\n",
        " time_data=time_data.split('.')\n",
        " time_data = time_data[0].replace(\"-\", \"/\")\n",
        " time_data=time_data.strip()\n",
        " format_data = \"%Y/%m/%d %H:%M:%S\"\n",
        " datetim.append(datetime.strptime(time_data, format_data))"
      ],
      "id": "MbuMGDdcmPNo"
    },
    {
      "cell_type": "code",
      "execution_count": null,
      "metadata": {
        "id": "s4u-y-4nmTw_"
      },
      "outputs": [],
      "source": [
        "#on remplace la colonne datetime par une autre colonne de type Datetime\n",
        "df1['DateTime']=datetim"
      ],
      "id": "s4u-y-4nmTw_"
    },
    {
      "cell_type": "code",
      "execution_count": null,
      "metadata": {
        "id": "2_-uqcY8mW_E"
      },
      "outputs": [],
      "source": [
        "#On crée les colonnes year,month,day,hour et minutes et on assigne a chaque colonne sa valeur convenable\n",
        "Year=[]\n",
        "Month=[]\n",
        "Day=[]\n",
        "Hour=[]\n",
        "Minutes=[]\n",
        "for i in df1['DateTime']:\n",
        "    Year.append(i.year)\n",
        "    Month.append(i.month)\n",
        "    Day.append(i.day)\n",
        "    Hour.append(i.hour)\n",
        "    Minutes.append(i.minute)\n",
        "    "
      ],
      "id": "2_-uqcY8mW_E"
    },
    {
      "cell_type": "code",
      "execution_count": null,
      "metadata": {
        "id": "YFzlJusHmcP6"
      },
      "outputs": [],
      "source": [
        "#On ajoute les colonnes au dataframe df1\n",
        "df1['Year']=Year\n",
        "df1['Month']=Month\n",
        "df1['Day']=Day\n",
        "df1['Hour']=Hour\n",
        "df1['Minute']=Minutes\n"
      ],
      "id": "YFzlJusHmcP6"
    },
    {
      "cell_type": "code",
      "source": [
        "df1=df1.drop('DateTime',axis=1)"
      ],
      "metadata": {
        "id": "9PaH-L4rcONM"
      },
      "execution_count": null,
      "outputs": [],
      "id": "9PaH-L4rcONM"
    },
    {
      "cell_type": "code",
      "execution_count": null,
      "metadata": {
        "id": "-WPp9ecmmf4k"
      },
      "outputs": [],
      "source": [
        "#Pour eviter de perdre le temps chaque fois pour avoir ce dataframe, on va l'enregistrer dans un fichier Data_With_Date sous forme csv\n",
        "df1.to_csv('/content/drive/MyDrive/Smart_grid/Data_with_date.csv',index=False)\n"
      ],
      "id": "-WPp9ecmmf4k"
    }
  ],
  "metadata": {
    "kernelspec": {
      "display_name": "Python 3 (ipykernel)",
      "language": "python",
      "name": "python3"
    },
    "language_info": {
      "codemirror_mode": {
        "name": "ipython",
        "version": 3
      },
      "file_extension": ".py",
      "mimetype": "text/x-python",
      "name": "python",
      "nbconvert_exporter": "python",
      "pygments_lexer": "ipython3",
      "version": "3.9.12"
    },
    "colab": {
      "provenance": []
    }
  },
  "nbformat": 4,
  "nbformat_minor": 5
}